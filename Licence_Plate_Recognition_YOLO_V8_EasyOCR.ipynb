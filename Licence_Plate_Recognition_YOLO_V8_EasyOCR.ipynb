{
  "cells": [
    {
      "cell_type": "code",
      "execution_count": 1,
      "metadata": {
        "colab": {
          "base_uri": "https://localhost:8080/"
        },
        "id": "soj7oqxKXLDW",
        "outputId": "723507b6-faf1-4087-e11c-e762ea5d0b48"
      },
      "outputs": [
        {
          "name": "stderr",
          "output_type": "stream",
          "text": [
            "fatal: destination path 'Licence-Plate-Detection-and-Recognition-using-YOLO-V8-EasyOCR' already exists and is not an empty directory.\n"
          ]
        }
      ],
      "source": [
        "!git clone https://github.com/Arijit1080/Licence-Plate-Detection-and-Recognition-using-YOLO-V8-EasyOCR.git"
      ]
    },
    {
      "cell_type": "code",
      "execution_count": 2,
      "metadata": {
        "colab": {
          "base_uri": "https://localhost:8080/"
        },
        "id": "YI3lrkLBcV-o",
        "outputId": "fdf0951d-fa0c-4d31-ab46-ce8eeb77805d"
      },
      "outputs": [
        {
          "name": "stdout",
          "output_type": "stream",
          "text": [
            "d:\\content\\Licence-Plate-Detection-and-Recognition-using-YOLO-V8-EasyOCR\n"
          ]
        }
      ],
      "source": [
        "cd /content/Licence-Plate-Detection-and-Recognition-using-YOLO-V8-EasyOCR"
      ]
    },
    {
      "cell_type": "code",
      "execution_count": 7,
      "metadata": {
        "colab": {
          "base_uri": "https://localhost:8080/",
          "height": 1000
        },
        "id": "SAy_5DdlcPaG",
        "outputId": "289873f9-87ad-4bc6-f1c8-20dd1fc1b0c4"
      },
      "outputs": [
        {
          "name": "stdout",
          "output_type": "stream",
          "text": [
            "Note: you may need to restart the kernel to use updated packages.\n"
          ]
        },
        {
          "name": "stderr",
          "output_type": "stream",
          "text": [
            "ERROR: Could not open requirements file: [Errno 2] No such file or directory: 'requirements.txt'\n"
          ]
        }
      ],
      "source": [
        "pip install -r requirements.txt"
      ]
    },
    {
      "cell_type": "code",
      "execution_count": 8,
      "metadata": {
        "colab": {
          "base_uri": "https://localhost:8080/"
        },
        "id": "jUhBdfQ-cbzV",
        "outputId": "2e0c445a-2079-4f2e-8b70-8535e54ab343"
      },
      "outputs": [
        {
          "name": "stderr",
          "output_type": "stream",
          "text": [
            "python: can't open file 'd:\\\\content\\\\Licence-Plate-Detection-and-Recognition-using-YOLO-V8-EasyOCR\\\\predictWithOCR.py': [Errno 2] No such file or directory\n"
          ]
        }
      ],
      "source": [
        "!python predictWithOCR.py model='/content/Licence-Plate-Detection-and-Recognition-using-YOLO-V8-EasyOCR/best.pt' source='/content/Licence-Plate-Detection-and-Recognition-using-YOLO-V8-EasyOCR/demo.mp4'"
      ]
    }
  ],
  "metadata": {
    "accelerator": "GPU",
    "colab": {
      "gpuType": "T4",
      "provenance": []
    },
    "kernelspec": {
      "display_name": "Python 3",
      "name": "python3"
    },
    "language_info": {
      "codemirror_mode": {
        "name": "ipython",
        "version": 3
      },
      "file_extension": ".py",
      "mimetype": "text/x-python",
      "name": "python",
      "nbconvert_exporter": "python",
      "pygments_lexer": "ipython3",
      "version": "3.11.5"
    }
  },
  "nbformat": 4,
  "nbformat_minor": 0
}
